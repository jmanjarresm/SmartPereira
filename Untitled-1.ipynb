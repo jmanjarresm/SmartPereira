{
 "cells": [
  {
   "cell_type": "code",
   "execution_count": 1,
   "metadata": {},
   "outputs": [
    {
     "name": "stdout",
     "output_type": "stream",
     "text": [
      "Requirement already satisfied: flask in c:\\users\\felipe\\anaconda3\\envs\\financiero\\lib\\site-packages (2.0.3)\n",
      "Requirement already satisfied: Werkzeug>=2.0 in c:\\users\\felipe\\anaconda3\\envs\\financiero\\lib\\site-packages (from flask) (2.0.3)\n",
      "Requirement already satisfied: Jinja2>=3.0 in c:\\users\\felipe\\anaconda3\\envs\\financiero\\lib\\site-packages (from flask) (3.0.3)\n",
      "Requirement already satisfied: itsdangerous>=2.0 in c:\\users\\felipe\\anaconda3\\envs\\financiero\\lib\\site-packages (from flask) (2.1.2)\n",
      "Requirement already satisfied: click>=7.1.2 in c:\\users\\felipe\\anaconda3\\envs\\financiero\\lib\\site-packages (from flask) (8.0.4)\n",
      "Requirement already satisfied: colorama in c:\\users\\felipe\\anaconda3\\envs\\financiero\\lib\\site-packages (from click>=7.1.2->flask) (0.4.6)\n",
      "Requirement already satisfied: MarkupSafe>=2.0 in c:\\users\\felipe\\anaconda3\\envs\\financiero\\lib\\site-packages (from Jinja2>=3.0->flask) (2.1.1)\n"
     ]
    },
    {
     "name": "stderr",
     "output_type": "stream",
     "text": [
      "WARNING: Ignoring invalid distribution -illow (c:\\users\\felipe\\anaconda3\\envs\\financiero\\lib\\site-packages)\n",
      "WARNING: Ignoring invalid distribution -illow (c:\\users\\felipe\\anaconda3\\envs\\financiero\\lib\\site-packages)\n",
      "\n",
      "[notice] A new release of pip is available: 23.1.2 -> 23.2.1\n",
      "[notice] To update, run: python.exe -m pip install --upgrade pip\n"
     ]
    }
   ],
   "source": [
    "!pip install flask"
   ]
  },
  {
   "cell_type": "code",
   "execution_count": null,
   "metadata": {},
   "outputs": [],
   "source": []
  }
 ],
 "metadata": {
  "kernelspec": {
   "display_name": "Financiero",
   "language": "python",
   "name": "python3"
  },
  "language_info": {
   "codemirror_mode": {
    "name": "ipython",
    "version": 3
   },
   "file_extension": ".py",
   "mimetype": "text/x-python",
   "name": "python",
   "nbconvert_exporter": "python",
   "pygments_lexer": "ipython3",
   "version": "3.9.12"
  },
  "orig_nbformat": 4
 },
 "nbformat": 4,
 "nbformat_minor": 2
}
